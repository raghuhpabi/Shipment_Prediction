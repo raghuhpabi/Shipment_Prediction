{
 "cells": [
  {
   "cell_type": "code",
   "execution_count": 3,
   "metadata": {},
   "outputs": [],
   "source": [
    "import pandas as pd\n",
    "import numpy as np\n",
    "pd.set_option('display.max_columns', None)\n",
    "import warnings\n",
    "warnings.filterwarnings(\"ignore\")\n",
    "from datetime import datetime\n",
    "pd.set_option('display.max_rows', 500)\n",
    "from sklearn.model_selection import train_test_split\n",
    "from sklearn.preprocessing import LabelEncoder\n",
    "import json\n",
    "import time\n",
    "import math\n",
    "pd.options.mode.copy_on_write = True \n",
    "import datetime"
   ]
  },
  {
   "cell_type": "code",
   "execution_count": 4,
   "metadata": {},
   "outputs": [
    {
     "data": {
      "text/html": [
       "<div>\n",
       "<style scoped>\n",
       "    .dataframe tbody tr th:only-of-type {\n",
       "        vertical-align: middle;\n",
       "    }\n",
       "\n",
       "    .dataframe tbody tr th {\n",
       "        vertical-align: top;\n",
       "    }\n",
       "\n",
       "    .dataframe thead th {\n",
       "        text-align: right;\n",
       "    }\n",
       "</style>\n",
       "<table border=\"1\" class=\"dataframe\">\n",
       "  <thead>\n",
       "    <tr style=\"text-align: right;\">\n",
       "      <th></th>\n",
       "      <th>date</th>\n",
       "      <th>week</th>\n",
       "      <th>year</th>\n",
       "      <th>month</th>\n",
       "      <th>Lane</th>\n",
       "      <th>shipment</th>\n",
       "    </tr>\n",
       "  </thead>\n",
       "  <tbody>\n",
       "    <tr>\n",
       "      <th>0</th>\n",
       "      <td>2021-12-20</td>\n",
       "      <td>51</td>\n",
       "      <td>2021</td>\n",
       "      <td>12</td>\n",
       "      <td>DE02_29080846</td>\n",
       "      <td>1</td>\n",
       "    </tr>\n",
       "    <tr>\n",
       "      <th>1</th>\n",
       "      <td>2022-03-21</td>\n",
       "      <td>12</td>\n",
       "      <td>2022</td>\n",
       "      <td>3</td>\n",
       "      <td>DE02_29080846</td>\n",
       "      <td>1</td>\n",
       "    </tr>\n",
       "    <tr>\n",
       "      <th>2</th>\n",
       "      <td>2020-01-06</td>\n",
       "      <td>2</td>\n",
       "      <td>2020</td>\n",
       "      <td>1</td>\n",
       "      <td>DE02_29080846</td>\n",
       "      <td>0</td>\n",
       "    </tr>\n",
       "    <tr>\n",
       "      <th>3</th>\n",
       "      <td>2020-01-13</td>\n",
       "      <td>3</td>\n",
       "      <td>2020</td>\n",
       "      <td>1</td>\n",
       "      <td>DE02_29080846</td>\n",
       "      <td>0</td>\n",
       "    </tr>\n",
       "    <tr>\n",
       "      <th>4</th>\n",
       "      <td>2020-01-20</td>\n",
       "      <td>4</td>\n",
       "      <td>2020</td>\n",
       "      <td>1</td>\n",
       "      <td>DE02_29080846</td>\n",
       "      <td>0</td>\n",
       "    </tr>\n",
       "  </tbody>\n",
       "</table>\n",
       "</div>"
      ],
      "text/plain": [
       "        date  week  year  month           Lane  shipment\n",
       "0 2021-12-20    51  2021     12  DE02_29080846         1\n",
       "1 2022-03-21    12  2022      3  DE02_29080846         1\n",
       "2 2020-01-06     2  2020      1  DE02_29080846         0\n",
       "3 2020-01-13     3  2020      1  DE02_29080846         0\n",
       "4 2020-01-20     4  2020      1  DE02_29080846         0"
      ]
     },
     "execution_count": 4,
     "metadata": {},
     "output_type": "execute_result"
    }
   ],
   "source": [
    "df_lane = pd.read_excel(r'C:\\Users\\C385490\\OneDrive - Anheuser-Busch InBev\\Projects\\Shipment_Prediction\\Data\\Lane_shipment_data.xlsx')\n",
    "df_lane.head()"
   ]
  },
  {
   "cell_type": "code",
   "execution_count": 5,
   "metadata": {},
   "outputs": [
    {
     "data": {
      "text/html": [
       "<div>\n",
       "<style scoped>\n",
       "    .dataframe tbody tr th:only-of-type {\n",
       "        vertical-align: middle;\n",
       "    }\n",
       "\n",
       "    .dataframe tbody tr th {\n",
       "        vertical-align: top;\n",
       "    }\n",
       "\n",
       "    .dataframe thead th {\n",
       "        text-align: right;\n",
       "    }\n",
       "</style>\n",
       "<table border=\"1\" class=\"dataframe\">\n",
       "  <thead>\n",
       "    <tr style=\"text-align: right;\">\n",
       "      <th></th>\n",
       "      <th>year</th>\n",
       "      <th>week</th>\n",
       "      <th>Holiday Flag</th>\n",
       "    </tr>\n",
       "  </thead>\n",
       "  <tbody>\n",
       "    <tr>\n",
       "      <th>0</th>\n",
       "      <td>2020</td>\n",
       "      <td>1</td>\n",
       "      <td>1</td>\n",
       "    </tr>\n",
       "    <tr>\n",
       "      <th>1</th>\n",
       "      <td>2020</td>\n",
       "      <td>15</td>\n",
       "      <td>1</td>\n",
       "    </tr>\n",
       "    <tr>\n",
       "      <th>2</th>\n",
       "      <td>2020</td>\n",
       "      <td>17</td>\n",
       "      <td>1</td>\n",
       "    </tr>\n",
       "    <tr>\n",
       "      <th>3</th>\n",
       "      <td>2020</td>\n",
       "      <td>18</td>\n",
       "      <td>1</td>\n",
       "    </tr>\n",
       "    <tr>\n",
       "      <th>4</th>\n",
       "      <td>2020</td>\n",
       "      <td>21</td>\n",
       "      <td>1</td>\n",
       "    </tr>\n",
       "  </tbody>\n",
       "</table>\n",
       "</div>"
      ],
      "text/plain": [
       "   year  week  Holiday Flag\n",
       "0  2020     1             1\n",
       "1  2020    15             1\n",
       "2  2020    17             1\n",
       "3  2020    18             1\n",
       "4  2020    21             1"
      ]
     },
     "execution_count": 5,
     "metadata": {},
     "output_type": "execute_result"
    }
   ],
   "source": [
    "df_holiday = pd.read_excel(r'C:\\Users\\C385490\\OneDrive - Anheuser-Busch InBev\\Projects\\Shipment_Prediction\\Data\\holiday sheet.xlsx')\n",
    "df_holiday.head()"
   ]
  },
  {
   "cell_type": "code",
   "execution_count": 6,
   "metadata": {},
   "outputs": [
    {
     "data": {
      "text/plain": [
       "year            int64\n",
       "week            int64\n",
       "Holiday Flag    int64\n",
       "dtype: object"
      ]
     },
     "execution_count": 6,
     "metadata": {},
     "output_type": "execute_result"
    }
   ],
   "source": [
    "df_holiday.dtypes"
   ]
  },
  {
   "attachments": {},
   "cell_type": "markdown",
   "metadata": {},
   "source": [
    "# Data Preprocessing"
   ]
  },
  {
   "cell_type": "code",
   "execution_count": 7,
   "metadata": {},
   "outputs": [],
   "source": [
    "\n",
    "def top20Lane_selection(final_data):\n",
    "    week_count = pd.DataFrame(columns = ['Lane','Count'])\n",
    "    lan = []\n",
    "    count = []\n",
    "\n",
    "    top_lanes= final_data[(final_data['year']==2023) & final_data['shipment']!=0]\n",
    "    for lane in top_lanes['Lane'].unique():\n",
    "        cnt = top_lanes[top_lanes['Lane']==lane]['date'].nunique()\n",
    "        lan.append(lane)\n",
    "        count.append(cnt)\n",
    "\n",
    "    week_count['Lane'] = lan\n",
    "    week_count['Count'] = count\n",
    "\n",
    "    lanes_week_wise = list(week_count.sort_values('Count', ascending = False)[:30]['Lane'].unique())\n",
    "\n",
    "    top20_Lanes = final_data[final_data['Lane'].isin(lanes_week_wise)].reset_index(drop=True)\n",
    "    top20_Lanes = top20_Lanes.groupby(['Lane','year'])['shipment'].sum().reset_index()\n",
    "    top20_Lanes = top20_Lanes[top20_Lanes['year']==2023]\n",
    "    top20_Lanes = list(top20_Lanes.sort_values('shipment', ascending = False)[:20]['Lane'].unique())\n",
    "\n",
    "    top20_df = final_data[final_data['Lane'].isin(top20_Lanes)].reset_index(drop=True)\n",
    "\n",
    "\n",
    "    # Initialize LabelEncoder\n",
    "    label_encoder = LabelEncoder()\n",
    "\n",
    "    # Fit and transform the categorical column\n",
    "    encoded_values = label_encoder.fit_transform(top20_df['Lane'])\n",
    "\n",
    "    ## Create a dictionary to store the mapping of original labels to encoded values\n",
    "    label_mapping = {label: int(encoded_value) for label, encoded_value in zip(label_encoder.classes_, encoded_values)}\n",
    "\n",
    "    # Save the label mapping as JSON file\n",
    "    with open('lane_enocoded_labels.json', 'w') as json_file:\n",
    "        json.dump(label_mapping, json_file)\n",
    "\n",
    "    # read the label mapping JSON file\n",
    "    with open('lane_enocoded_labels.json', 'r') as json_file:\n",
    "        label_mapping = json.load(json_file)\n",
    "\n",
    "    \n",
    "    top20_df['Encoded_Lane'] = top20_df['Lane'].map(label_mapping)\n",
    "\n",
    "    return top20_df\n",
    "\n",
    "\n",
    "    "
   ]
  },
  {
   "cell_type": "code",
   "execution_count": 8,
   "metadata": {},
   "outputs": [],
   "source": [
    "def data_manipulation_selection(df_lane,df_holiday):\n",
    "    final_data = pd.merge(df_lane, df_holiday, on=['year', 'week'], how='left')\n",
    "    #fill Nan value with 0 in holiday_flag\n",
    "    final_data['Holiday Flag'] = final_data['Holiday Flag'].fillna(0)\n",
    "    final_data['Holiday Flag'] = final_data['Holiday Flag'].astype(np.int64)\n",
    "\n",
    "\n",
    "    final_data['Quarter'] = final_data['date'].dt.quarter\n",
    "    final_data['Quarter'] = final_data['Quarter'].astype(np.int64)\n",
    "\n",
    "    top20_df = top20Lane_selection(final_data)\n",
    "\n",
    "    return final_data, top20_df\n",
    "\n",
    "    "
   ]
  },
  {
   "cell_type": "code",
   "execution_count": 9,
   "metadata": {},
   "outputs": [
    {
     "data": {
      "text/plain": [
       "(4160, 9)"
      ]
     },
     "execution_count": 9,
     "metadata": {},
     "output_type": "execute_result"
    }
   ],
   "source": [
    "final_data, top20_df = data_manipulation_selection(df_lane,df_holiday)\n",
    "top20_df.shape"
   ]
  },
  {
   "cell_type": "code",
   "execution_count": 10,
   "metadata": {},
   "outputs": [],
   "source": [
    "from scipy.special import boxcox, inv_boxcox\n",
    "\n",
    "def data_tain_test_split(top20_df):\n",
    "\n",
    "    # Box-cox transform\n",
    "    top20_df['shipment_transformed']= np.log1p(top20_df['shipment'])\n",
    "    \n",
    "\n",
    "\n",
    "    #filter latest 8 weeks for testing the model\n",
    "    test = top20_df[(top20_df['year'] == 2023) & (top20_df['week'] >= 45)].reset_index(drop=True)\n",
    "    #train dataset except last 8 weeks\n",
    "    train = top20_df.drop(index = test.index.tolist()).reset_index(drop=True)\n",
    "    \n",
    "\n",
    "    return train, test"
   ]
  },
  {
   "cell_type": "code",
   "execution_count": 11,
   "metadata": {},
   "outputs": [
    {
     "name": "stdout",
     "output_type": "stream",
     "text": [
      "train_data_shape:  (4000, 10)\n",
      "test_data_shape:  (160, 10)\n"
     ]
    }
   ],
   "source": [
    "train, test = data_tain_test_split(top20_df)\n",
    "print(\"train_data_shape: \",train.shape)\n",
    "print(\"test_data_shape: \",test.shape)"
   ]
  },
  {
   "cell_type": "code",
   "execution_count": 12,
   "metadata": {},
   "outputs": [],
   "source": [
    "def data_preprocessing(df):\n",
    "\n",
    "    # Lag features\n",
    "    df['Previous Week Shipment'] = df['shipment'].shift(1)\n",
    "    df['Previous Year Shipment'] = df.groupby(['Lane'])['shipment'].shift(52)\n",
    "\n",
    "    #Filling Nan values in Lag Feature\n",
    "\n",
    "    df['Previous Year Shipment'] = df['Previous Year Shipment'].interpolate()\n",
    "    df['Previous Year Shipment'] = df['Previous Year Shipment'].fillna(0)\n",
    "    df['Previous Week Shipment'] = df['Previous Week Shipment'].fillna(0)\n",
    "    \n",
    "    \n",
    "    # Historical trends\n",
    "    df['Moving Average Shipment'] = df.groupby(['Lane'])['shipment'].rolling(window=4).mean().reset_index(drop=True)\n",
    "    df['Moving Average Shipment'] = df['Moving Average Shipment'].fillna(0) \n",
    "\n",
    "    # Convert created features to integer\n",
    "    df['Previous Week Shipment'] = df['Previous Week Shipment'].astype(np.int64)\n",
    "    df['Previous Year Shipment'] = df['Previous Year Shipment'].astype(np.int64)\n",
    "    df['Moving Average Shipment'] = df['Moving Average Shipment'].astype(np.int64)\n",
    "\n",
    "    X = df.drop(columns = ['date', 'year', 'Lane',  'Quarter','shipment', 'shipment_transformed'])\n",
    "    y = df['shipment_transformed']\n",
    "\n",
    "    return df, X, y\n",
    "    \n",
    "    "
   ]
  },
  {
   "cell_type": "code",
   "execution_count": 13,
   "metadata": {},
   "outputs": [
    {
     "name": "stdout",
     "output_type": "stream",
     "text": [
      "X_train_shape:  (4000, 7)\n",
      "y_train_shape:  (4000,)\n"
     ]
    }
   ],
   "source": [
    "training_data, X_train, y_train = data_preprocessing(train)\n",
    "print(\"X_train_shape: \",X_train.shape)\n",
    "print(\"y_train_shape: \",y_train.shape)"
   ]
  },
  {
   "cell_type": "code",
   "execution_count": 14,
   "metadata": {},
   "outputs": [
    {
     "data": {
      "text/plain": [
       "(array([ 572.,    0., 1426.,  868.,  448.,  370.,  222.,   59.,   29.,\n",
       "           6.]),\n",
       " array([0.        , 0.32188758, 0.64377516, 0.96566275, 1.28755033,\n",
       "        1.60943791, 1.93132549, 2.25321308, 2.57510066, 2.89698824,\n",
       "        3.21887582]),\n",
       " <BarContainer object of 10 artists>)"
      ]
     },
     "execution_count": 14,
     "metadata": {},
     "output_type": "execute_result"
    },
    {
     "data": {
      "image/png": "[encoded data removed]",
      "text/plain": [
       "<Figure size 640x480 with 1 Axes>"
      ]
     },
     "metadata": {},
     "output_type": "display_data"
    }
   ],
   "source": [
    "import matplotlib.pyplot as plt\n",
    "plt.hist(y_train)"
   ]
  },
  {
   "attachments": {},
   "cell_type": "markdown",
   "metadata": {},
   "source": [
    "# Model Building"
   ]
  },
  {
   "cell_type": "code",
   "execution_count": 15,
   "metadata": {},
   "outputs": [],
   "source": [
    "import xgboost as xgb \n",
    "\n",
    "def XGB_model(X_train, y_train):\n",
    "    model = xgb.XGBRegressor()\n",
    "    model.fit(X_train, y_train)\n",
    "\n",
    "    return model"
   ]
  },
  {
   "cell_type": "code",
   "execution_count": 16,
   "metadata": {},
   "outputs": [],
   "source": [
    "from sklearn.ensemble import GradientBoostingRegressor\n",
    "\n",
    "def GB_model(X_train, y_train):\n",
    "    # Initialize the Gradient Boosting Regressor\n",
    "    model = GradientBoostingRegressor(random_state=42)\n",
    "    model.fit(X_train, y_train)\n",
    "\n",
    "    return model"
   ]
  },
  {
   "cell_type": "code",
   "execution_count": 17,
   "metadata": {},
   "outputs": [],
   "source": [
    "def model_training(model, X_train, y_train):\n",
    "    if model == 'xgboost':\n",
    "        model_xgb = XGB_model(X_train, y_train)\n",
    "    elif model =='gradient_boost':\n",
    "        model_gb = GB_model(X_train, y_train)\n",
    "\n",
    "    return model_gb\n"
   ]
  },
  {
   "cell_type": "code",
   "execution_count": 25,
   "metadata": {},
   "outputs": [],
   "source": [
    "model_gb = model_training('gradient_boost', X_train, y_train)"
   ]
  },
  {
   "attachments": {},
   "cell_type": "markdown",
   "metadata": {},
   "source": [
    "# Prediction"
   ]
  },
  {
   "cell_type": "code",
   "execution_count": 18,
   "metadata": {},
   "outputs": [],
   "source": [
    "# Sample function to calculate WAPE\n",
    "def weighted_absolute_percentage_error(y_true, y_pred):\n",
    "    total_weight = sum(y_true)\n",
    "    \n",
    "    # Check if total_weight is zero to avoid division by zero\n",
    "    if total_weight == 0:\n",
    "        return None  # Return None to indicate no shipments\n",
    "    \n",
    "    absolute_errors = abs(y_true - y_pred)\n",
    "    weighted_absolute_errors = absolute_errors * y_true\n",
    "    wape = sum(weighted_absolute_errors) / total_weight * 100\n",
    "    return wape"
   ]
  },
  {
   "cell_type": "code",
   "execution_count": 19,
   "metadata": {},
   "outputs": [
    {
     "name": "stdout",
     "output_type": "stream",
     "text": [
      "X_test_shape:  (160, 7)\n",
      "y_test_shape:  (160,)\n"
     ]
    }
   ],
   "source": [
    "test_data, X_test, y_test = data_preprocessing(test)\n",
    "print(\"X_test_shape: \",X_test.shape)\n",
    "print(\"y_test_shape: \",y_test.shape)\n"
   ]
  },
  {
   "cell_type": "code",
   "execution_count": 20,
   "metadata": {},
   "outputs": [],
   "source": [
    "\n",
    "def predict_evaluate(model, X_test, y_test):\n",
    "    # Predict\n",
    "    y_pred = model.predict(X_test)\n",
    "    #y_pred = np.expm1(y_pred)\n",
    "        \n",
    "    # Calculate WAPE score\n",
    "    wape = weighted_absolute_percentage_error(y_test, y_pred)\n",
    "\n",
    "\n",
    "    test['Predicted_shipment'] = [round(np.expm1(x)) for x in y_pred]\n",
    "    #test['Predicted_shipment'] = [round(x) for x in y_pred]\n",
    "    \n",
    "    \n",
    "    return test, wape\n",
    "    "
   ]
  },
  {
   "cell_type": "code",
   "execution_count": 21,
   "metadata": {},
   "outputs": [
    {
     "data": {
      "text/plain": [
       "0"
      ]
     },
     "execution_count": 21,
     "metadata": {},
     "output_type": "execute_result"
    }
   ],
   "source": [
    "y_train.isna().sum()"
   ]
  },
  {
   "cell_type": "code",
   "execution_count": 26,
   "metadata": {},
   "outputs": [
    {
     "data": {
      "text/plain": [
       "48.73318724610915"
      ]
     },
     "execution_count": 26,
     "metadata": {},
     "output_type": "execute_result"
    }
   ],
   "source": [
    "predicted_df, wape = predict_evaluate(model_gb, X_test, y_test)\n",
    "wape"
   ]
  },
  {
   "cell_type": "code",
   "execution_count": 27,
   "metadata": {},
   "outputs": [],
   "source": [
    "predicted_df.to_csv('predicted_shipment_V4.csv', index = False)"
   ]
  },
  {
   "cell_type": "code",
   "execution_count": 28,
   "metadata": {},
   "outputs": [
    {
     "data": {
      "text/plain": [
       "(array([ 8.,  0., 99.,  0.,  0., 46.,  0.,  6.,  0.,  1.]),\n",
       " array([0. , 0.4, 0.8, 1.2, 1.6, 2. , 2.4, 2.8, 3.2, 3.6, 4. ]),\n",
       " <BarContainer object of 10 artists>)"
      ]
     },
     "execution_count": 28,
     "metadata": {},
     "output_type": "execute_result"
    },
    {
     "data": {
      "image/png": "[encoded data removed]",
      "text/plain": [
       "<Figure size 640x480 with 1 Axes>"
      ]
     },
     "metadata": {},
     "output_type": "display_data"
    }
   ],
   "source": [
    "plt.hist(predicted_df['Predicted_shipment'])"
   ]
  },
  {
   "cell_type": "code",
   "execution_count": 29,
   "metadata": {},
   "outputs": [
    {
     "data": {
      "text/plain": [
       "array([1, 2, 3, 4, 0], dtype=int64)"
      ]
     },
     "execution_count": 29,
     "metadata": {},
     "output_type": "execute_result"
    }
   ],
   "source": [
    "predicted_df['Predicted_shipment'].unique()"
   ]
  },
  {
   "cell_type": "code",
   "execution_count": 30,
   "metadata": {},
   "outputs": [
    {
     "data": {
      "text/plain": [
       "array([ 4,  3,  6,  2,  5,  7,  1,  9,  0,  8, 12], dtype=int64)"
      ]
     },
     "execution_count": 30,
     "metadata": {},
     "output_type": "execute_result"
    }
   ],
   "source": [
    "predicted_df['shipment'].unique()"
   ]
  },
  {
   "cell_type": "code",
   "execution_count": 29,
   "metadata": {},
   "outputs": [
    {
     "data": {
      "text/html": [
       "<div>\n",
       "<style scoped>\n",
       "    .dataframe tbody tr th:only-of-type {\n",
       "        vertical-align: middle;\n",
       "    }\n",
       "\n",
       "    .dataframe tbody tr th {\n",
       "        vertical-align: top;\n",
       "    }\n",
       "\n",
       "    .dataframe thead th {\n",
       "        text-align: right;\n",
       "    }\n",
       "</style>\n",
       "<table border=\"1\" class=\"dataframe\">\n",
       "  <thead>\n",
       "    <tr style=\"text-align: right;\">\n",
       "      <th></th>\n",
       "      <th>shipment</th>\n",
       "      <th>Predicted_shipment</th>\n",
       "    </tr>\n",
       "  </thead>\n",
       "  <tbody>\n",
       "    <tr>\n",
       "      <th>0</th>\n",
       "      <td>4</td>\n",
       "      <td>2</td>\n",
       "    </tr>\n",
       "    <tr>\n",
       "      <th>1</th>\n",
       "      <td>3</td>\n",
       "      <td>3</td>\n",
       "    </tr>\n",
       "    <tr>\n",
       "      <th>2</th>\n",
       "      <td>6</td>\n",
       "      <td>3</td>\n",
       "    </tr>\n",
       "    <tr>\n",
       "      <th>3</th>\n",
       "      <td>2</td>\n",
       "      <td>1</td>\n",
       "    </tr>\n",
       "    <tr>\n",
       "      <th>4</th>\n",
       "      <td>5</td>\n",
       "      <td>3</td>\n",
       "    </tr>\n",
       "    <tr>\n",
       "      <th>5</th>\n",
       "      <td>3</td>\n",
       "      <td>2</td>\n",
       "    </tr>\n",
       "    <tr>\n",
       "      <th>6</th>\n",
       "      <td>7</td>\n",
       "      <td>8</td>\n",
       "    </tr>\n",
       "    <tr>\n",
       "      <th>7</th>\n",
       "      <td>2</td>\n",
       "      <td>3</td>\n",
       "    </tr>\n",
       "    <tr>\n",
       "      <th>8</th>\n",
       "      <td>3</td>\n",
       "      <td>1</td>\n",
       "    </tr>\n",
       "    <tr>\n",
       "      <th>9</th>\n",
       "      <td>6</td>\n",
       "      <td>3</td>\n",
       "    </tr>\n",
       "  </tbody>\n",
       "</table>\n",
       "</div>"
      ],
      "text/plain": [
       "   shipment  Predicted_shipment\n",
       "0         4                   2\n",
       "1         3                   3\n",
       "2         6                   3\n",
       "3         2                   1\n",
       "4         5                   3\n",
       "5         3                   2\n",
       "6         7                   8\n",
       "7         2                   3\n",
       "8         3                   1\n",
       "9         6                   3"
      ]
     },
     "execution_count": 29,
     "metadata": {},
     "output_type": "execute_result"
    }
   ],
   "source": [
    "#predicted_df[predicted_df['Predicted_shipment']>2][['shipment', 'Predicted_shipment']]\n",
    "predicted_df[['shipment', 'Predicted_shipment']].head(10)"
   ]
  },
  {
   "cell_type": "code",
   "execution_count": 31,
   "metadata": {},
   "outputs": [
    {
     "data": {
      "text/plain": [
       "['gb_model_V5.joblib']"
      ]
     },
     "execution_count": 31,
     "metadata": {},
     "output_type": "execute_result"
    }
   ],
   "source": [
    "import joblib\n",
    "# Save the model to a file\n",
    "joblib.dump(model_gb, 'gb_model_V5.joblib')"
   ]
  },
  {
   "cell_type": "code",
   "execution_count": 32,
   "metadata": {},
   "outputs": [
    {
     "data": {
      "text/plain": [
       "51.26681275389085"
      ]
     },
     "execution_count": 32,
     "metadata": {},
     "output_type": "execute_result"
    }
   ],
   "source": [
    "100 - wape"
   ]
  },
  {
   "cell_type": "code",
   "execution_count": null,
   "metadata": {},
   "outputs": [],
   "source": []
  }
 ],
 "metadata": {
  "kernelspec": {
   "display_name": "Python 3",
   "language": "python",
   "name": "python3"
  },
  "language_info": {
   "codemirror_mode": {
    "name": "ipython",
    "version": 3
   },
   "file_extension": ".py",
   "mimetype": "text/x-python",
   "name": "python",
   "nbconvert_exporter": "python",
   "pygments_lexer": "ipython3",
   "version": "3.11.2"
  },
  "orig_nbformat": 4
 },
 "nbformat": 4,
 "nbformat_minor": 2
}
