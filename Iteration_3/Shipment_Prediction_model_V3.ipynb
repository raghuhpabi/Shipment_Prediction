{
 "cells": [
  {
   "cell_type": "code",
   "execution_count": 1,
   "metadata": {},
   "outputs": [],
   "source": [
    "import pandas as pd\n",
    "import numpy as np\n",
    "pd.set_option('display.max_columns', None)\n",
    "import warnings\n",
    "warnings.filterwarnings(\"ignore\")\n",
    "from datetime import datetime\n",
    "pd.set_option('display.max_rows', 500)\n",
    "from sklearn.model_selection import train_test_split\n",
    "import time\n",
    "import math\n",
    "pd.options.mode.copy_on_write = True \n",
    "import datetime"
   ]
  },
  {
   "cell_type": "code",
   "execution_count": 2,
   "metadata": {},
   "outputs": [
    {
     "data": {
      "text/html": [
       "<div>\n",
       "<style scoped>\n",
       "    .dataframe tbody tr th:only-of-type {\n",
       "        vertical-align: middle;\n",
       "    }\n",
       "\n",
       "    .dataframe tbody tr th {\n",
       "        vertical-align: top;\n",
       "    }\n",
       "\n",
       "    .dataframe thead th {\n",
       "        text-align: right;\n",
       "    }\n",
       "</style>\n",
       "<table border=\"1\" class=\"dataframe\">\n",
       "  <thead>\n",
       "    <tr style=\"text-align: right;\">\n",
       "      <th></th>\n",
       "      <th>date</th>\n",
       "      <th>week</th>\n",
       "      <th>year</th>\n",
       "      <th>month</th>\n",
       "      <th>Lane</th>\n",
       "      <th>shipment</th>\n",
       "    </tr>\n",
       "  </thead>\n",
       "  <tbody>\n",
       "    <tr>\n",
       "      <th>0</th>\n",
       "      <td>2021-12-20</td>\n",
       "      <td>51</td>\n",
       "      <td>2021</td>\n",
       "      <td>12</td>\n",
       "      <td>DE02_29080846</td>\n",
       "      <td>1</td>\n",
       "    </tr>\n",
       "    <tr>\n",
       "      <th>1</th>\n",
       "      <td>2022-03-21</td>\n",
       "      <td>12</td>\n",
       "      <td>2022</td>\n",
       "      <td>3</td>\n",
       "      <td>DE02_29080846</td>\n",
       "      <td>1</td>\n",
       "    </tr>\n",
       "    <tr>\n",
       "      <th>2</th>\n",
       "      <td>2020-01-06</td>\n",
       "      <td>2</td>\n",
       "      <td>2020</td>\n",
       "      <td>1</td>\n",
       "      <td>DE02_29080846</td>\n",
       "      <td>0</td>\n",
       "    </tr>\n",
       "    <tr>\n",
       "      <th>3</th>\n",
       "      <td>2020-01-13</td>\n",
       "      <td>3</td>\n",
       "      <td>2020</td>\n",
       "      <td>1</td>\n",
       "      <td>DE02_29080846</td>\n",
       "      <td>0</td>\n",
       "    </tr>\n",
       "    <tr>\n",
       "      <th>4</th>\n",
       "      <td>2020-01-20</td>\n",
       "      <td>4</td>\n",
       "      <td>2020</td>\n",
       "      <td>1</td>\n",
       "      <td>DE02_29080846</td>\n",
       "      <td>0</td>\n",
       "    </tr>\n",
       "  </tbody>\n",
       "</table>\n",
       "</div>"
      ],
      "text/plain": [
       "        date  week  year  month           Lane  shipment\n",
       "0 2021-12-20    51  2021     12  DE02_29080846         1\n",
       "1 2022-03-21    12  2022      3  DE02_29080846         1\n",
       "2 2020-01-06     2  2020      1  DE02_29080846         0\n",
       "3 2020-01-13     3  2020      1  DE02_29080846         0\n",
       "4 2020-01-20     4  2020      1  DE02_29080846         0"
      ]
     },
     "execution_count": 2,
     "metadata": {},
     "output_type": "execute_result"
    }
   ],
   "source": [
    "df_lane = pd.read_excel(r'C:\\Users\\C385490\\OneDrive - Anheuser-Busch InBev\\Projects\\Shipment_Prediction\\Data\\Lane_shipment_data.xlsx')\n",
    "df_lane.head()"
   ]
  },
  {
   "cell_type": "code",
   "execution_count": 3,
   "metadata": {},
   "outputs": [
    {
     "data": {
      "text/html": [
       "<div>\n",
       "<style scoped>\n",
       "    .dataframe tbody tr th:only-of-type {\n",
       "        vertical-align: middle;\n",
       "    }\n",
       "\n",
       "    .dataframe tbody tr th {\n",
       "        vertical-align: top;\n",
       "    }\n",
       "\n",
       "    .dataframe thead th {\n",
       "        text-align: right;\n",
       "    }\n",
       "</style>\n",
       "<table border=\"1\" class=\"dataframe\">\n",
       "  <thead>\n",
       "    <tr style=\"text-align: right;\">\n",
       "      <th></th>\n",
       "      <th>year</th>\n",
       "      <th>week</th>\n",
       "      <th>Holiday Flag</th>\n",
       "    </tr>\n",
       "  </thead>\n",
       "  <tbody>\n",
       "    <tr>\n",
       "      <th>0</th>\n",
       "      <td>2020</td>\n",
       "      <td>1</td>\n",
       "      <td>1</td>\n",
       "    </tr>\n",
       "    <tr>\n",
       "      <th>1</th>\n",
       "      <td>2020</td>\n",
       "      <td>15</td>\n",
       "      <td>1</td>\n",
       "    </tr>\n",
       "    <tr>\n",
       "      <th>2</th>\n",
       "      <td>2020</td>\n",
       "      <td>17</td>\n",
       "      <td>1</td>\n",
       "    </tr>\n",
       "    <tr>\n",
       "      <th>3</th>\n",
       "      <td>2020</td>\n",
       "      <td>18</td>\n",
       "      <td>1</td>\n",
       "    </tr>\n",
       "    <tr>\n",
       "      <th>4</th>\n",
       "      <td>2020</td>\n",
       "      <td>21</td>\n",
       "      <td>1</td>\n",
       "    </tr>\n",
       "  </tbody>\n",
       "</table>\n",
       "</div>"
      ],
      "text/plain": [
       "   year  week  Holiday Flag\n",
       "0  2020     1             1\n",
       "1  2020    15             1\n",
       "2  2020    17             1\n",
       "3  2020    18             1\n",
       "4  2020    21             1"
      ]
     },
     "execution_count": 3,
     "metadata": {},
     "output_type": "execute_result"
    }
   ],
   "source": [
    "df_holiday = pd.read_excel(r'C:\\Users\\C385490\\OneDrive - Anheuser-Busch InBev\\Projects\\Shipment_Prediction\\Data\\holiday sheet.xlsx')\n",
    "df_holiday.head()"
   ]
  },
  {
   "cell_type": "code",
   "execution_count": 4,
   "metadata": {},
   "outputs": [
    {
     "data": {
      "text/plain": [
       "year            int64\n",
       "week            int64\n",
       "Holiday Flag    int64\n",
       "dtype: object"
      ]
     },
     "execution_count": 4,
     "metadata": {},
     "output_type": "execute_result"
    }
   ],
   "source": [
    "df_holiday.dtypes"
   ]
  },
  {
   "attachments": {},
   "cell_type": "markdown",
   "metadata": {},
   "source": [
    "# Data Preprocessing"
   ]
  },
  {
   "cell_type": "code",
   "execution_count": 5,
   "metadata": {},
   "outputs": [],
   "source": [
    "def data_preprocessing(df_lane, df_holiday):\n",
    "    final_data = pd.merge(df_lane, df_holiday, on=['year', 'week'], how='left')\n",
    "    #fill Nan value with 0 in holiday_flag\n",
    "    final_data['Holiday Flag'] = final_data['Holiday Flag'].fillna(0)\n",
    "    final_data['Holiday Flag'] = final_data['Holiday Flag'].astype(np.int64)\n",
    "\n",
    "\n",
    "    final_data['Quarter'] = final_data['date'].dt.quarter\n",
    "    final_data['Quarter'] = final_data['Quarter'].astype(np.int64)\n",
    "\n",
    "    # Lag features\n",
    "    final_data['Previous Week Shipment'] = final_data['shipment'].shift(1)\n",
    "    final_data['Previous Year Shipment'] = final_data.groupby(['Lane'])['shipment'].shift(52)\n",
    "\n",
    "    #Filling Nan values in Lag Feature\n",
    "\n",
    "    final_data['Previous Year Shipment'] = final_data['Previous Year Shipment'].interpolate()\n",
    "    final_data['Previous Year Shipment'] = final_data['Previous Year Shipment'].fillna(0)\n",
    "    final_data['Previous Week Shipment'] = final_data['Previous Week Shipment'].fillna(0)\n",
    "    \n",
    "    \n",
    "    # Historical trends\n",
    "    final_data['Moving Average Shipment'] = final_data.groupby(['Lane'])['shipment'].rolling(window=4).mean().reset_index(drop=True)\n",
    "    final_data['Moving Average Shipment'] = final_data['Moving Average Shipment'].fillna(0) \n",
    "\n",
    "    # Convert created features to integer\n",
    "    final_data['Previous Week Shipment'] = final_data['Previous Week Shipment'].astype(np.int64)\n",
    "    final_data['Previous Year Shipment'] = final_data['Previous Year Shipment'].astype(np.int64)\n",
    "    final_data['Moving Average Shipment'] = final_data['Moving Average Shipment'].astype(np.int64)\n",
    "\n",
    "    return final_data\n",
    "    \n",
    "    "
   ]
  },
  {
   "cell_type": "code",
   "execution_count": 6,
   "metadata": {},
   "outputs": [
    {
     "data": {
      "text/html": [
       "<div>\n",
       "<style scoped>\n",
       "    .dataframe tbody tr th:only-of-type {\n",
       "        vertical-align: middle;\n",
       "    }\n",
       "\n",
       "    .dataframe tbody tr th {\n",
       "        vertical-align: top;\n",
       "    }\n",
       "\n",
       "    .dataframe thead th {\n",
       "        text-align: right;\n",
       "    }\n",
       "</style>\n",
       "<table border=\"1\" class=\"dataframe\">\n",
       "  <thead>\n",
       "    <tr style=\"text-align: right;\">\n",
       "      <th></th>\n",
       "      <th>date</th>\n",
       "      <th>week</th>\n",
       "      <th>year</th>\n",
       "      <th>month</th>\n",
       "      <th>Lane</th>\n",
       "      <th>shipment</th>\n",
       "      <th>Holiday Flag</th>\n",
       "      <th>Quarter</th>\n",
       "      <th>Previous Week Shipment</th>\n",
       "      <th>Previous Year Shipment</th>\n",
       "      <th>Moving Average Shipment</th>\n",
       "    </tr>\n",
       "  </thead>\n",
       "  <tbody>\n",
       "    <tr>\n",
       "      <th>0</th>\n",
       "      <td>2021-12-20</td>\n",
       "      <td>51</td>\n",
       "      <td>2021</td>\n",
       "      <td>12</td>\n",
       "      <td>DE02_29080846</td>\n",
       "      <td>1</td>\n",
       "      <td>1</td>\n",
       "      <td>4</td>\n",
       "      <td>0</td>\n",
       "      <td>0</td>\n",
       "      <td>0</td>\n",
       "    </tr>\n",
       "    <tr>\n",
       "      <th>1</th>\n",
       "      <td>2022-03-21</td>\n",
       "      <td>12</td>\n",
       "      <td>2022</td>\n",
       "      <td>3</td>\n",
       "      <td>DE02_29080846</td>\n",
       "      <td>1</td>\n",
       "      <td>0</td>\n",
       "      <td>1</td>\n",
       "      <td>1</td>\n",
       "      <td>0</td>\n",
       "      <td>0</td>\n",
       "    </tr>\n",
       "    <tr>\n",
       "      <th>2</th>\n",
       "      <td>2020-01-06</td>\n",
       "      <td>2</td>\n",
       "      <td>2020</td>\n",
       "      <td>1</td>\n",
       "      <td>DE02_29080846</td>\n",
       "      <td>0</td>\n",
       "      <td>0</td>\n",
       "      <td>1</td>\n",
       "      <td>1</td>\n",
       "      <td>0</td>\n",
       "      <td>0</td>\n",
       "    </tr>\n",
       "    <tr>\n",
       "      <th>3</th>\n",
       "      <td>2020-01-13</td>\n",
       "      <td>3</td>\n",
       "      <td>2020</td>\n",
       "      <td>1</td>\n",
       "      <td>DE02_29080846</td>\n",
       "      <td>0</td>\n",
       "      <td>0</td>\n",
       "      <td>1</td>\n",
       "      <td>0</td>\n",
       "      <td>0</td>\n",
       "      <td>0</td>\n",
       "    </tr>\n",
       "    <tr>\n",
       "      <th>4</th>\n",
       "      <td>2020-01-20</td>\n",
       "      <td>4</td>\n",
       "      <td>2020</td>\n",
       "      <td>1</td>\n",
       "      <td>DE02_29080846</td>\n",
       "      <td>0</td>\n",
       "      <td>0</td>\n",
       "      <td>1</td>\n",
       "      <td>0</td>\n",
       "      <td>0</td>\n",
       "      <td>0</td>\n",
       "    </tr>\n",
       "  </tbody>\n",
       "</table>\n",
       "</div>"
      ],
      "text/plain": [
       "        date  week  year  month           Lane  shipment  Holiday Flag  \\\n",
       "0 2021-12-20    51  2021     12  DE02_29080846         1             1   \n",
       "1 2022-03-21    12  2022      3  DE02_29080846         1             0   \n",
       "2 2020-01-06     2  2020      1  DE02_29080846         0             0   \n",
       "3 2020-01-13     3  2020      1  DE02_29080846         0             0   \n",
       "4 2020-01-20     4  2020      1  DE02_29080846         0             0   \n",
       "\n",
       "   Quarter  Previous Week Shipment  Previous Year Shipment  \\\n",
       "0        4                       0                       0   \n",
       "1        1                       1                       0   \n",
       "2        1                       1                       0   \n",
       "3        1                       0                       0   \n",
       "4        1                       0                       0   \n",
       "\n",
       "   Moving Average Shipment  \n",
       "0                        0  \n",
       "1                        0  \n",
       "2                        0  \n",
       "3                        0  \n",
       "4                        0  "
      ]
     },
     "execution_count": 6,
     "metadata": {},
     "output_type": "execute_result"
    }
   ],
   "source": [
    "final_data = data_preprocessing(df_lane, df_holiday)\n",
    "final_data.head()"
   ]
  },
  {
   "cell_type": "code",
   "execution_count": 7,
   "metadata": {},
   "outputs": [],
   "source": [
    "import json\n",
    "def top20Lane_selection(final_data):\n",
    "    week_count = pd.DataFrame(columns = ['Lane','Count'])\n",
    "    lan = []\n",
    "    count = []\n",
    "\n",
    "    top_lanes= final_data[(final_data['year']==2023) & final_data['shipment']!=0]\n",
    "    for lane in top_lanes['Lane'].unique():\n",
    "        cnt = top_lanes[top_lanes['Lane']==lane]['date'].nunique()\n",
    "        lan.append(lane)\n",
    "        count.append(cnt)\n",
    "\n",
    "    week_count['Lane'] = lan\n",
    "    week_count['Count'] = count\n",
    "\n",
    "    lanes_week_wise = list(week_count.sort_values('Count', ascending = False)[:30]['Lane'].unique())\n",
    "\n",
    "    top20_Lanes = final_data[final_data['Lane'].isin(lanes_week_wise)].reset_index(drop=True)\n",
    "    top20_Lanes = top20_Lanes.groupby(['Lane','year'])['shipment'].sum().reset_index()\n",
    "    top20_Lanes = top20_Lanes[top20_Lanes['year']==2023]\n",
    "    top20_Lanes = list(top20_Lanes.sort_values('shipment', ascending = False)[:20]['Lane'].unique())\n",
    "\n",
    "    top20_df = final_data[final_data['Lane'].isin(top20_Lanes)].reset_index(drop=True)\n",
    "\n",
    "    # Save the label mapping as JSON file\n",
    "    with open('lane_enocoded_labels.json', 'r') as json_file:\n",
    "        label_mapping = json.load(json_file)\n",
    "\n",
    "    \n",
    "    top20_df['Encoded_Lane'] = top20_df['Lane'].map(label_mapping)\n",
    "\n",
    "    return top20_df\n",
    "\n",
    "\n",
    "    "
   ]
  },
  {
   "cell_type": "code",
   "execution_count": 8,
   "metadata": {},
   "outputs": [
    {
     "data": {
      "text/plain": [
       "(4160, 12)"
      ]
     },
     "execution_count": 8,
     "metadata": {},
     "output_type": "execute_result"
    }
   ],
   "source": [
    "top20_df = top20Lane_selection(final_data)\n",
    "top20_df.shape"
   ]
  },
  {
   "cell_type": "code",
   "execution_count": 9,
   "metadata": {},
   "outputs": [
    {
     "data": {
      "text/html": [
       "<div>\n",
       "<style scoped>\n",
       "    .dataframe tbody tr th:only-of-type {\n",
       "        vertical-align: middle;\n",
       "    }\n",
       "\n",
       "    .dataframe tbody tr th {\n",
       "        vertical-align: top;\n",
       "    }\n",
       "\n",
       "    .dataframe thead th {\n",
       "        text-align: right;\n",
       "    }\n",
       "</style>\n",
       "<table border=\"1\" class=\"dataframe\">\n",
       "  <thead>\n",
       "    <tr style=\"text-align: right;\">\n",
       "      <th></th>\n",
       "      <th>date</th>\n",
       "      <th>week</th>\n",
       "      <th>year</th>\n",
       "      <th>month</th>\n",
       "      <th>Lane</th>\n",
       "      <th>shipment</th>\n",
       "      <th>Holiday Flag</th>\n",
       "      <th>Quarter</th>\n",
       "      <th>Previous Week Shipment</th>\n",
       "      <th>Previous Year Shipment</th>\n",
       "      <th>Moving Average Shipment</th>\n",
       "      <th>Encoded_Lane</th>\n",
       "    </tr>\n",
       "  </thead>\n",
       "  <tbody>\n",
       "    <tr>\n",
       "      <th>0</th>\n",
       "      <td>2023-01-09</td>\n",
       "      <td>2</td>\n",
       "      <td>2023</td>\n",
       "      <td>1</td>\n",
       "      <td>DE02_29143519</td>\n",
       "      <td>1</td>\n",
       "      <td>0</td>\n",
       "      <td>1</td>\n",
       "      <td>0</td>\n",
       "      <td>1</td>\n",
       "      <td>0</td>\n",
       "      <td>1</td>\n",
       "    </tr>\n",
       "    <tr>\n",
       "      <th>1</th>\n",
       "      <td>2023-01-16</td>\n",
       "      <td>3</td>\n",
       "      <td>2023</td>\n",
       "      <td>1</td>\n",
       "      <td>DE02_29143519</td>\n",
       "      <td>1</td>\n",
       "      <td>0</td>\n",
       "      <td>1</td>\n",
       "      <td>1</td>\n",
       "      <td>1</td>\n",
       "      <td>0</td>\n",
       "      <td>1</td>\n",
       "    </tr>\n",
       "    <tr>\n",
       "      <th>2</th>\n",
       "      <td>2023-01-02</td>\n",
       "      <td>1</td>\n",
       "      <td>2023</td>\n",
       "      <td>1</td>\n",
       "      <td>DE02_29143519</td>\n",
       "      <td>0</td>\n",
       "      <td>1</td>\n",
       "      <td>1</td>\n",
       "      <td>1</td>\n",
       "      <td>1</td>\n",
       "      <td>0</td>\n",
       "      <td>1</td>\n",
       "    </tr>\n",
       "    <tr>\n",
       "      <th>3</th>\n",
       "      <td>2023-01-23</td>\n",
       "      <td>4</td>\n",
       "      <td>2023</td>\n",
       "      <td>1</td>\n",
       "      <td>DE02_29143519</td>\n",
       "      <td>0</td>\n",
       "      <td>0</td>\n",
       "      <td>1</td>\n",
       "      <td>0</td>\n",
       "      <td>1</td>\n",
       "      <td>0</td>\n",
       "      <td>1</td>\n",
       "    </tr>\n",
       "    <tr>\n",
       "      <th>4</th>\n",
       "      <td>2023-01-30</td>\n",
       "      <td>5</td>\n",
       "      <td>2023</td>\n",
       "      <td>1</td>\n",
       "      <td>DE02_29143519</td>\n",
       "      <td>0</td>\n",
       "      <td>0</td>\n",
       "      <td>1</td>\n",
       "      <td>0</td>\n",
       "      <td>1</td>\n",
       "      <td>0</td>\n",
       "      <td>1</td>\n",
       "    </tr>\n",
       "  </tbody>\n",
       "</table>\n",
       "</div>"
      ],
      "text/plain": [
       "        date  week  year  month           Lane  shipment  Holiday Flag  \\\n",
       "0 2023-01-09     2  2023      1  DE02_29143519         1             0   \n",
       "1 2023-01-16     3  2023      1  DE02_29143519         1             0   \n",
       "2 2023-01-02     1  2023      1  DE02_29143519         0             1   \n",
       "3 2023-01-23     4  2023      1  DE02_29143519         0             0   \n",
       "4 2023-01-30     5  2023      1  DE02_29143519         0             0   \n",
       "\n",
       "   Quarter  Previous Week Shipment  Previous Year Shipment  \\\n",
       "0        1                       0                       1   \n",
       "1        1                       1                       1   \n",
       "2        1                       1                       1   \n",
       "3        1                       0                       1   \n",
       "4        1                       0                       1   \n",
       "\n",
       "   Moving Average Shipment  Encoded_Lane  \n",
       "0                        0             1  \n",
       "1                        0             1  \n",
       "2                        0             1  \n",
       "3                        0             1  \n",
       "4                        0             1  "
      ]
     },
     "execution_count": 9,
     "metadata": {},
     "output_type": "execute_result"
    }
   ],
   "source": [
    "top20_df.head()"
   ]
  },
  {
   "cell_type": "code",
   "execution_count": 10,
   "metadata": {},
   "outputs": [
    {
     "data": {
      "text/plain": [
       "(array([2.917e+03, 7.240e+02, 3.740e+02, 6.900e+01, 2.800e+01, 2.900e+01,\n",
       "        1.100e+01, 6.000e+00, 0.000e+00, 2.000e+00]),\n",
       " array([ 0. ,  2.4,  4.8,  7.2,  9.6, 12. , 14.4, 16.8, 19.2, 21.6, 24. ]),\n",
       " <BarContainer object of 10 artists>)"
      ]
     },
     "execution_count": 10,
     "metadata": {},
     "output_type": "execute_result"
    },
    {
     "data": {
      "image/png": "[encoded data removed]",
      "text/plain": [
       "<Figure size 640x480 with 1 Axes>"
      ]
     },
     "metadata": {},
     "output_type": "display_data"
    }
   ],
   "source": [
    "import matplotlib.pyplot as plt\n",
    "plt.hist(top20_df['shipment'])"
   ]
  },
  {
   "attachments": {},
   "cell_type": "markdown",
   "metadata": {},
   "source": [
    "# Filtering Top20 Lanes"
   ]
  },
  {
   "cell_type": "code",
   "execution_count": 17,
   "metadata": {},
   "outputs": [],
   "source": [
    "def data_tain_test_split(top20_df):\n",
    "\n",
    "    #filter latest 8 weeks for testing the model\n",
    "    test = top20_df[(top20_df['year'] == 2023) & (top20_df['week'] >= 45)].reset_index(drop=True)\n",
    "    #train dataset except last 8 weeks\n",
    "    train = top20_df.drop(index = test.index.tolist()).reset_index(drop=True)\n",
    "\n",
    "    #Square Root transform the target shipment column in both train and test\n",
    "    train['shipment_sqrt_transform'] = np.sqrt(train['shipment'])\n",
    "    test['shipment_sqrt_transform'] = np.sqrt(test['shipment'])\n",
    "\n",
    "    X_train = train.drop(columns = ['date', 'year', 'Lane',  'Quarter','shipment', 'shipment_sqrt_transform'])\n",
    "    y_train = train['shipment_sqrt_transform']\n",
    "\n",
    "    X_test = test.drop(columns = ['date', 'year', 'Lane',  'Quarter','shipment', 'shipment_sqrt_transform'])\n",
    "    y_test = test['shipment_sqrt_transform']\n",
    "\n",
    "    return X_train, y_train, X_test, y_test, train, test\n",
    "\n",
    "\n",
    "    "
   ]
  },
  {
   "cell_type": "code",
   "execution_count": 18,
   "metadata": {},
   "outputs": [],
   "source": [
    "X_train, y_train, X_test, y_test, train, test = data_tain_test_split(top20_df)"
   ]
  },
  {
   "cell_type": "markdown",
   "metadata": {},
   "source": [
    "# Model Building"
   ]
  },
  {
   "cell_type": "code",
   "execution_count": 19,
   "metadata": {},
   "outputs": [],
   "source": [
    "import xgboost as xgb \n",
    "\n",
    "def XGB_model(X_train, y_train):\n",
    "    model = xgb.XGBRegressor()\n",
    "    model.fit(X_train, y_train)\n",
    "\n",
    "    return model"
   ]
  },
  {
   "cell_type": "code",
   "execution_count": 20,
   "metadata": {},
   "outputs": [],
   "source": [
    "def model_training(model, X_train, y_train):\n",
    "    if model == 'xgboost':\n",
    "        model_xgb = XGB_model(X_train, y_train)\n",
    "\n",
    "    return model_xgb"
   ]
  },
  {
   "cell_type": "code",
   "execution_count": 21,
   "metadata": {},
   "outputs": [],
   "source": [
    "model_xgb = model_training('xgboost', X_train, y_train)"
   ]
  },
  {
   "cell_type": "markdown",
   "metadata": {},
   "source": [
    "# Prediction"
   ]
  },
  {
   "cell_type": "code",
   "execution_count": 22,
   "metadata": {},
   "outputs": [],
   "source": [
    "# Sample function to calculate WAPE\n",
    "def weighted_absolute_percentage_error(y_true, y_pred):\n",
    "    total_weight = sum(y_true)\n",
    "    \n",
    "    # Check if total_weight is zero to avoid division by zero\n",
    "    if total_weight == 0:\n",
    "        return None  # Return None to indicate no shipments\n",
    "    \n",
    "    absolute_errors = abs(y_true - y_pred)\n",
    "    weighted_absolute_errors = absolute_errors * y_true\n",
    "    wape = sum(weighted_absolute_errors) / total_weight * 100\n",
    "    return wape"
   ]
  },
  {
   "cell_type": "code",
   "execution_count": 24,
   "metadata": {},
   "outputs": [],
   "source": [
    "def predict_evaluate(model, X_test, y_test):\n",
    "    # Predict\n",
    "    y_pred = model.predict(X_test)\n",
    "    #y_pred = np.expm1(y_pred)\n",
    "        \n",
    "    # Calculate WAPE score\n",
    "    wape = weighted_absolute_percentage_error(y_test, y_pred)\n",
    "\n",
    "    test['Predicted_shipment'] = [np.square(round(x)) for x in y_pred]\n",
    "    #test['Predicted_shipment'] = [round(x) for x in y_pred]\n",
    "    test.head()\n",
    "    \n",
    "    return test, wape\n",
    "    "
   ]
  },
  {
   "cell_type": "code",
   "execution_count": 25,
   "metadata": {},
   "outputs": [
    {
     "data": {
      "text/plain": [
       "20.327580534830076"
      ]
     },
     "execution_count": 25,
     "metadata": {},
     "output_type": "execute_result"
    }
   ],
   "source": [
    "predicted_df, wape = predict_evaluate(model_xgb, X_test, y_test)\n",
    "wape"
   ]
  },
  {
   "cell_type": "code",
   "execution_count": 26,
   "metadata": {},
   "outputs": [],
   "source": [
    "predicted_df.to_csv('predicted_shipment_V2.csv', index = False)"
   ]
  },
  {
   "cell_type": "code",
   "execution_count": 27,
   "metadata": {},
   "outputs": [
    {
     "data": {
      "text/plain": [
       "(array([  5., 111.,   0.,   0.,  38.,   0.,   0.,   0.,   0.,   6.]),\n",
       " array([0. , 0.9, 1.8, 2.7, 3.6, 4.5, 5.4, 6.3, 7.2, 8.1, 9. ]),\n",
       " <BarContainer object of 10 artists>)"
      ]
     },
     "execution_count": 27,
     "metadata": {},
     "output_type": "execute_result"
    },
    {
     "data": {
      "image/png": "[encoded data removed]",
      "text/plain": [
       "<Figure size 640x480 with 1 Axes>"
      ]
     },
     "metadata": {},
     "output_type": "display_data"
    }
   ],
   "source": [
    "plt.hist(predicted_df['Predicted_shipment'])"
   ]
  },
  {
   "cell_type": "code",
   "execution_count": 30,
   "metadata": {},
   "outputs": [
    {
     "data": {
      "text/plain": [
       "array([1, 4, 9, 0])"
      ]
     },
     "execution_count": 30,
     "metadata": {},
     "output_type": "execute_result"
    }
   ],
   "source": [
    "predicted_df['Predicted_shipment'].unique()"
   ]
  },
  {
   "cell_type": "code",
   "execution_count": 31,
   "metadata": {},
   "outputs": [
    {
     "data": {
      "text/plain": [
       "array([ 4,  3,  6,  2,  5,  7,  1,  9,  0,  8, 12], dtype=int64)"
      ]
     },
     "execution_count": 31,
     "metadata": {},
     "output_type": "execute_result"
    }
   ],
   "source": [
    "predicted_df['shipment'].unique()"
   ]
  },
  {
   "cell_type": "code",
   "execution_count": 32,
   "metadata": {},
   "outputs": [
    {
     "data": {
      "text/html": [
       "<div>\n",
       "<style scoped>\n",
       "    .dataframe tbody tr th:only-of-type {\n",
       "        vertical-align: middle;\n",
       "    }\n",
       "\n",
       "    .dataframe tbody tr th {\n",
       "        vertical-align: top;\n",
       "    }\n",
       "\n",
       "    .dataframe thead th {\n",
       "        text-align: right;\n",
       "    }\n",
       "</style>\n",
       "<table border=\"1\" class=\"dataframe\">\n",
       "  <thead>\n",
       "    <tr style=\"text-align: right;\">\n",
       "      <th></th>\n",
       "      <th>shipment</th>\n",
       "      <th>Predicted_shipment</th>\n",
       "    </tr>\n",
       "  </thead>\n",
       "  <tbody>\n",
       "    <tr>\n",
       "      <th>1</th>\n",
       "      <td>3</td>\n",
       "      <td>4</td>\n",
       "    </tr>\n",
       "    <tr>\n",
       "      <th>2</th>\n",
       "      <td>6</td>\n",
       "      <td>4</td>\n",
       "    </tr>\n",
       "    <tr>\n",
       "      <th>3</th>\n",
       "      <td>2</td>\n",
       "      <td>4</td>\n",
       "    </tr>\n",
       "    <tr>\n",
       "      <th>4</th>\n",
       "      <td>5</td>\n",
       "      <td>4</td>\n",
       "    </tr>\n",
       "    <tr>\n",
       "      <th>5</th>\n",
       "      <td>3</td>\n",
       "      <td>4</td>\n",
       "    </tr>\n",
       "    <tr>\n",
       "      <th>6</th>\n",
       "      <td>7</td>\n",
       "      <td>9</td>\n",
       "    </tr>\n",
       "    <tr>\n",
       "      <th>8</th>\n",
       "      <td>3</td>\n",
       "      <td>4</td>\n",
       "    </tr>\n",
       "    <tr>\n",
       "      <th>9</th>\n",
       "      <td>6</td>\n",
       "      <td>4</td>\n",
       "    </tr>\n",
       "    <tr>\n",
       "      <th>11</th>\n",
       "      <td>3</td>\n",
       "      <td>4</td>\n",
       "    </tr>\n",
       "    <tr>\n",
       "      <th>12</th>\n",
       "      <td>6</td>\n",
       "      <td>4</td>\n",
       "    </tr>\n",
       "    <tr>\n",
       "      <th>18</th>\n",
       "      <td>3</td>\n",
       "      <td>4</td>\n",
       "    </tr>\n",
       "    <tr>\n",
       "      <th>19</th>\n",
       "      <td>1</td>\n",
       "      <td>4</td>\n",
       "    </tr>\n",
       "    <tr>\n",
       "      <th>22</th>\n",
       "      <td>6</td>\n",
       "      <td>4</td>\n",
       "    </tr>\n",
       "    <tr>\n",
       "      <th>24</th>\n",
       "      <td>9</td>\n",
       "      <td>9</td>\n",
       "    </tr>\n",
       "    <tr>\n",
       "      <th>25</th>\n",
       "      <td>3</td>\n",
       "      <td>4</td>\n",
       "    </tr>\n",
       "    <tr>\n",
       "      <th>27</th>\n",
       "      <td>5</td>\n",
       "      <td>4</td>\n",
       "    </tr>\n",
       "    <tr>\n",
       "      <th>28</th>\n",
       "      <td>3</td>\n",
       "      <td>4</td>\n",
       "    </tr>\n",
       "    <tr>\n",
       "      <th>29</th>\n",
       "      <td>4</td>\n",
       "      <td>4</td>\n",
       "    </tr>\n",
       "    <tr>\n",
       "      <th>30</th>\n",
       "      <td>7</td>\n",
       "      <td>4</td>\n",
       "    </tr>\n",
       "    <tr>\n",
       "      <th>31</th>\n",
       "      <td>5</td>\n",
       "      <td>4</td>\n",
       "    </tr>\n",
       "    <tr>\n",
       "      <th>32</th>\n",
       "      <td>5</td>\n",
       "      <td>4</td>\n",
       "    </tr>\n",
       "    <tr>\n",
       "      <th>33</th>\n",
       "      <td>5</td>\n",
       "      <td>4</td>\n",
       "    </tr>\n",
       "    <tr>\n",
       "      <th>34</th>\n",
       "      <td>8</td>\n",
       "      <td>9</td>\n",
       "    </tr>\n",
       "    <tr>\n",
       "      <th>35</th>\n",
       "      <td>7</td>\n",
       "      <td>9</td>\n",
       "    </tr>\n",
       "    <tr>\n",
       "      <th>36</th>\n",
       "      <td>5</td>\n",
       "      <td>4</td>\n",
       "    </tr>\n",
       "    <tr>\n",
       "      <th>37</th>\n",
       "      <td>12</td>\n",
       "      <td>9</td>\n",
       "    </tr>\n",
       "    <tr>\n",
       "      <th>38</th>\n",
       "      <td>7</td>\n",
       "      <td>9</td>\n",
       "    </tr>\n",
       "    <tr>\n",
       "      <th>39</th>\n",
       "      <td>4</td>\n",
       "      <td>4</td>\n",
       "    </tr>\n",
       "    <tr>\n",
       "      <th>40</th>\n",
       "      <td>2</td>\n",
       "      <td>4</td>\n",
       "    </tr>\n",
       "    <tr>\n",
       "      <th>41</th>\n",
       "      <td>3</td>\n",
       "      <td>4</td>\n",
       "    </tr>\n",
       "    <tr>\n",
       "      <th>42</th>\n",
       "      <td>1</td>\n",
       "      <td>4</td>\n",
       "    </tr>\n",
       "    <tr>\n",
       "      <th>46</th>\n",
       "      <td>3</td>\n",
       "      <td>4</td>\n",
       "    </tr>\n",
       "    <tr>\n",
       "      <th>49</th>\n",
       "      <td>6</td>\n",
       "      <td>4</td>\n",
       "    </tr>\n",
       "    <tr>\n",
       "      <th>51</th>\n",
       "      <td>5</td>\n",
       "      <td>4</td>\n",
       "    </tr>\n",
       "    <tr>\n",
       "      <th>54</th>\n",
       "      <td>3</td>\n",
       "      <td>4</td>\n",
       "    </tr>\n",
       "    <tr>\n",
       "      <th>56</th>\n",
       "      <td>4</td>\n",
       "      <td>4</td>\n",
       "    </tr>\n",
       "    <tr>\n",
       "      <th>61</th>\n",
       "      <td>2</td>\n",
       "      <td>4</td>\n",
       "    </tr>\n",
       "    <tr>\n",
       "      <th>62</th>\n",
       "      <td>1</td>\n",
       "      <td>4</td>\n",
       "    </tr>\n",
       "    <tr>\n",
       "      <th>73</th>\n",
       "      <td>1</td>\n",
       "      <td>4</td>\n",
       "    </tr>\n",
       "    <tr>\n",
       "      <th>108</th>\n",
       "      <td>5</td>\n",
       "      <td>4</td>\n",
       "    </tr>\n",
       "    <tr>\n",
       "      <th>112</th>\n",
       "      <td>3</td>\n",
       "      <td>4</td>\n",
       "    </tr>\n",
       "    <tr>\n",
       "      <th>113</th>\n",
       "      <td>3</td>\n",
       "      <td>4</td>\n",
       "    </tr>\n",
       "    <tr>\n",
       "      <th>114</th>\n",
       "      <td>2</td>\n",
       "      <td>4</td>\n",
       "    </tr>\n",
       "    <tr>\n",
       "      <th>120</th>\n",
       "      <td>4</td>\n",
       "      <td>4</td>\n",
       "    </tr>\n",
       "  </tbody>\n",
       "</table>\n",
       "</div>"
      ],
      "text/plain": [
       "     shipment  Predicted_shipment\n",
       "1           3                   4\n",
       "2           6                   4\n",
       "3           2                   4\n",
       "4           5                   4\n",
       "5           3                   4\n",
       "6           7                   9\n",
       "8           3                   4\n",
       "9           6                   4\n",
       "11          3                   4\n",
       "12          6                   4\n",
       "18          3                   4\n",
       "19          1                   4\n",
       "22          6                   4\n",
       "24          9                   9\n",
       "25          3                   4\n",
       "27          5                   4\n",
       "28          3                   4\n",
       "29          4                   4\n",
       "30          7                   4\n",
       "31          5                   4\n",
       "32          5                   4\n",
       "33          5                   4\n",
       "34          8                   9\n",
       "35          7                   9\n",
       "36          5                   4\n",
       "37         12                   9\n",
       "38          7                   9\n",
       "39          4                   4\n",
       "40          2                   4\n",
       "41          3                   4\n",
       "42          1                   4\n",
       "46          3                   4\n",
       "49          6                   4\n",
       "51          5                   4\n",
       "54          3                   4\n",
       "56          4                   4\n",
       "61          2                   4\n",
       "62          1                   4\n",
       "73          1                   4\n",
       "108         5                   4\n",
       "112         3                   4\n",
       "113         3                   4\n",
       "114         2                   4\n",
       "120         4                   4"
      ]
     },
     "execution_count": 32,
     "metadata": {},
     "output_type": "execute_result"
    }
   ],
   "source": [
    "predicted_df[predicted_df['Predicted_shipment']>2][['shipment', 'Predicted_shipment']]"
   ]
  },
  {
   "cell_type": "code",
   "execution_count": 33,
   "metadata": {},
   "outputs": [
    {
     "data": {
      "text/plain": [
       "2"
      ]
     },
     "execution_count": 33,
     "metadata": {},
     "output_type": "execute_result"
    }
   ],
   "source": [
    "int(2.33)"
   ]
  },
  {
   "cell_type": "code",
   "execution_count": 34,
   "metadata": {},
   "outputs": [
    {
     "data": {
      "text/plain": [
       "['Xgb_model_V3.joblib']"
      ]
     },
     "execution_count": 34,
     "metadata": {},
     "output_type": "execute_result"
    }
   ],
   "source": [
    "import joblib\n",
    "# Save the model to a file\n",
    "joblib.dump(model_xgb, 'Xgb_model_V3.joblib')"
   ]
  },
  {
   "cell_type": "code",
   "execution_count": null,
   "metadata": {},
   "outputs": [],
   "source": []
  }
 ],
 "metadata": {
  "kernelspec": {
   "display_name": "Python 3",
   "language": "python",
   "name": "python3"
  },
  "language_info": {
   "codemirror_mode": {
    "name": "ipython",
    "version": 3
   },
   "file_extension": ".py",
   "mimetype": "text/x-python",
   "name": "python",
   "nbconvert_exporter": "python",
   "pygments_lexer": "ipython3",
   "version": "3.11.2"
  },
  "orig_nbformat": 4
 },
 "nbformat": 4,
 "nbformat_minor": 2
}
